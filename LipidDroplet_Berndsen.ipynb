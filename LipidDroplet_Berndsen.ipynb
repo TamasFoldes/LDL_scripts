{
 "cells": [
  {
   "cell_type": "code",
   "execution_count": 1,
   "id": "7f8964d0",
   "metadata": {},
   "outputs": [],
   "source": [
    "import numpy as np\n",
    "import matplotlib.pyplot as plt\n",
    "from scipy.ndimage import gaussian_filter\n",
    "from skimage import measure\n",
    "from scipy.spatial.distance import cdist,pdist\n",
    "from matplotlib.colors import LinearSegmentedColormap\n",
    "import datetime\n",
    "# import the functions to load trajectories and manipulate coordinates\n",
    "from scripts.lib01_trj import *\n",
    "# import classes to store molecular information\n",
    "# from lib02_molecules import *\n",
    "# import classes to construct core layers\n",
    "# from lib03_core_layers import *\n",
    "# import classes to create droplet\n",
    "# from lib04_droplet import *\n",
    "import time\n",
    "import copy\n",
    "import matplotlib as mpl\n",
    "from sklearn.datasets import make_blobs\n",
    "from scipy.cluster.hierarchy import dendrogram, linkage, cophenet\n",
    "from scipy.cluster.hierarchy import fcluster\n",
    "from scipy.spatial import cKDTree"
   ]
  },
  {
   "cell_type": "code",
   "execution_count": 3,
   "id": "2b2f172e",
   "metadata": {},
   "outputs": [],
   "source": [
    "xs=np.linspace(0,1,1000)"
   ]
  },
  {
   "cell_type": "code",
   "execution_count": null,
   "id": "5656f801",
   "metadata": {},
   "outputs": [],
   "source": []
  }
 ],
 "metadata": {
  "kernelspec": {
   "display_name": ".venv",
   "language": "python",
   "name": "python3"
  },
  "language_info": {
   "codemirror_mode": {
    "name": "ipython",
    "version": 3
   },
   "file_extension": ".py",
   "mimetype": "text/x-python",
   "name": "python",
   "nbconvert_exporter": "python",
   "pygments_lexer": "ipython3",
   "version": "3.13.0"
  }
 },
 "nbformat": 4,
 "nbformat_minor": 5
}
